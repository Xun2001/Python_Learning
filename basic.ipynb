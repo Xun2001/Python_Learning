{
 "cells": [
  {
   "cell_type": "code",
   "execution_count": null,
   "metadata": {},
   "outputs": [],
   "source": [
    "import numpy as np\n",
    "\n",
    "# 创建一个列表\n",
    "my_list = ['apple', 'banana', 'cherry']\n",
    "\n",
    "# 创建一个空字典来存储遍历的结果\n",
    "result_dict = {}\n",
    "\n",
    "# 使用for循环和enumerate函数遍历列表\n",
    "for index, value in enumerate(my_list):\n",
    "    # 将索引和值存入字典\n",
    "    result_dict[index] = value\n",
    "\n",
    "# 导入json模块\n",
    "import json\n",
    "\n",
    "# 将字典转换为JSON字符串\n",
    "json_result = json.dumps(result_dict, ensure_ascii=False)\n",
    "\n",
    "# 打印JSON字符串\n",
    "print(json_result)\n",
    "\n"
   ]
  },
  {
   "cell_type": "code",
   "execution_count": 8,
   "metadata": {},
   "outputs": [
    {
     "name": "stdout",
     "output_type": "stream",
     "text": [
      "a= 10\n",
      "a= 11\n",
      "a= 12\n",
      "a= 13\n",
      "a= 14\n"
     ]
    }
   ],
   "source": [
    "a:int = 10\n",
    "\n",
    "while a<15:\n",
    "    print (\"a=\",a)\n",
    "    a = a+1\n"
   ]
  }
 ],
 "metadata": {
  "kernelspec": {
   "display_name": "env_gsplat",
   "language": "python",
   "name": "python3"
  },
  "language_info": {
   "codemirror_mode": {
    "name": "ipython",
    "version": 3
   },
   "file_extension": ".py",
   "mimetype": "text/x-python",
   "name": "python",
   "nbconvert_exporter": "python",
   "pygments_lexer": "ipython3",
   "version": "3.8.19"
  }
 },
 "nbformat": 4,
 "nbformat_minor": 2
}
