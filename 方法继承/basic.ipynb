{
 "cells": [
  {
   "cell_type": "code",
   "execution_count": null,
   "metadata": {},
   "outputs": [],
   "source": [
    "# 定义一个父类 Animal\n",
    "class Animal:\n",
    "    def __init__(self, name):\n",
    "        self.name = name\n",
    "\n",
    "    def speak(self):\n",
    "        print(f\"{self.name} makes a sound\")\n",
    "\n",
    "# 定义一个子类 Dog 继承自 Animal\n",
    "class Dog(Animal):\n",
    "    def __init__(self, name, breed):\n",
    "        # 调用父类的构造函数\n",
    "        super().__init__(name)\n",
    "        self.breed = breed\n",
    "\n",
    "    def speak(self):  # 重写父类的 speak 方法\n",
    "        print(f\"{self.name} barks\")\n",
    "\n",
    "# 创建 Dog 类的实例\n",
    "dog = Dog(\"Buddy\", \"Golden Retriever\")\n",
    "dog.speak()  # 调用子类中的 speak 方法，输出：Buddy barks"
   ]
  }
 ],
 "metadata": {
  "language_info": {
   "name": "python"
  }
 },
 "nbformat": 4,
 "nbformat_minor": 2
}
