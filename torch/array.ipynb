{
 "cells": [
  {
   "cell_type": "code",
   "execution_count": 14,
   "id": "ba391ee9",
   "metadata": {},
   "outputs": [
    {
     "name": "stdout",
     "output_type": "stream",
     "text": [
      "torch.Size([1, 2, 3, 1])\n",
      "tensor([[[0.6401, 0.9784, 0.1812],\n",
      "         [0.0556, 0.7807, 0.1215]]])\n"
     ]
    }
   ],
   "source": [
    "# 多维数组的切片处理\n",
    "import numpy as np\n",
    "import torch\n",
    "\n",
    "x = torch.rand(1, 2, 3)\n",
    "\n",
    "x_last = x[..., 0]       # 等价于 x[:,:,:,0]，选择最后一维的第0个元素\n",
    "x_first = x[0, ...]       # 等价于 x[0,:,:,:]，选择第0个维度的所有元素\n",
    "x_more = x[..., None]    # 等价于 x[:,:,:,:,None]，在最后添加一个维度\n",
    "print(x_more.shape)\n",
    "print(x)"
   ]
  },
  {
   "cell_type": "code",
   "execution_count": 20,
   "id": "bb4cfd52",
   "metadata": {},
   "outputs": [
    {
     "name": "stdout",
     "output_type": "stream",
     "text": [
      "tensor([1, 2, 3])\n",
      "torch.Size([3])\n",
      "tensor([[1, 2, 3, 1, 2, 3]])\n"
     ]
    },
    {
     "data": {
      "text/plain": [
       "torch.Size([1, 6])"
      ]
     },
     "execution_count": 20,
     "metadata": {},
     "output_type": "execute_result"
    }
   ],
   "source": [
    "x = torch.tensor([1,2,3])\n",
    "print(x)\n",
    "print(x.shape)\n",
    "\n",
    "x_repeat = x.repeat(1,2) # 沿第0轴重复2次，1轴重复2次\n",
    "print(x_repeat)\n",
    "x_repeat.shape"
   ]
  }
 ],
 "metadata": {
  "kernelspec": {
   "display_name": "Python 3",
   "language": "python",
   "name": "python3"
  },
  "language_info": {
   "codemirror_mode": {
    "name": "ipython",
    "version": 3
   },
   "file_extension": ".py",
   "mimetype": "text/x-python",
   "name": "python",
   "nbconvert_exporter": "python",
   "pygments_lexer": "ipython3",
   "version": "3.8.18"
  }
 },
 "nbformat": 4,
 "nbformat_minor": 5
}
