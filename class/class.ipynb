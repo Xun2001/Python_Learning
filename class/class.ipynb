{
 "cells": [
  {
   "cell_type": "markdown",
   "id": "fa82e33c",
   "metadata": {},
   "source": [
    "1. class中包含 属性 方法\n",
    "2. 类外调用 方法、属性 需要实例\n",
    "3. 类内调用 方法、属性 直接使用 self"
   ]
  },
  {
   "cell_type": "code",
   "execution_count": null,
   "id": "51918314",
   "metadata": {},
   "outputs": [],
   "source": [
    "class people:\n",
    "    def __init__(self, people_dict):\n",
    "        self.id = people_dict['id']\n",
    "        self.name = people_dict['name']\n",
    "    \n",
    "    # 类内调用属性 id\n",
    "    def get_id(self):\n",
    "        return self.id\n",
    "    \n",
    "    # 类内调用方法\n",
    "    def get_info(self): \n",
    "        p_id = self.get_id()\n",
    "        p_name = self.name # self.name是调用属性; p_name是方法内局部变量\n",
    "        return p_id,p_name\n",
    "    \n",
    "    def bark(self):\n",
    "        print(f\"{self} bark\")\n",
    "    \n",
    "    @property  # 转换为属性，这样访问属性时，不用加括号（即可以不作为函数使用）\n",
    "    def get_name(self):\n",
    "        return self.name\n",
    "        \n",
    "hgj = {}\n",
    "hgj['id']=1\n",
    "hgj['name']='hgj'\n",
    "\n",
    "Hgj = people(hgj)\n",
    "print(Hgj.get_id())\n",
    "print(Hgj.get_info())\n",
    "print(Hgj.bark()) # 类外调用方法\n",
    "\n",
    "print(Hgj.get_name) # property 类外调用属性 # 不能再用print(Hgj.get_name())了\n",
    "print(Hgj.name) # __init__()方法内定义的属性，类外调用属性\n",
    "\n"
   ]
  },
  {
   "cell_type": "markdown",
   "id": "ce22cb46",
   "metadata": {},
   "source": [
    "## 父类的继承"
   ]
  },
  {
   "cell_type": "code",
   "execution_count": null,
   "id": "8d44c310",
   "metadata": {},
   "outputs": [],
   "source": [
    "# 定义一个父类 Animal\n",
    "class Animal:\n",
    "    def __init__(self, name):\n",
    "        self.name = name\n",
    "\n",
    "    def speak(self):\n",
    "        print(f\"{self.name} makes a sound\")\n",
    "\n",
    "# 定义一个子类 Dog 继承自 Animal\n",
    "class Dog(Animal):\n",
    "    def __init__(self, name, breed):\n",
    "        # 调用父类的构造函数\n",
    "        super().__init__(name)\n",
    "        self.breed = breed\n",
    "\n",
    "    def speak(self):  # 重写父类的 speak 方法\n",
    "        print(f\"{self.name} barks\")\n",
    "\n",
    "# 创建 Dog 类的实例\n",
    "dog = Dog(\"Buddy\", \"Golden Retriever\")\n",
    "dog.speak()  # 调用子类中的 speak 方法，输出：Buddy barks\n",
    "\n",
    "fater = Animal(\"fater dog\")\n",
    "fater.speak()  # 调用父类中的 speak 方法，输出：fater dog makes a sound"
   ]
  },
  {
   "cell_type": "markdown",
   "id": "21dd08ee",
   "metadata": {},
   "source": [
    "super()能够直接指代父类，不需要重写和实例化;  \n",
    "基于super()直接使用父类方法;  \n",
    "例如下面的 super().__init__() super().bar()"
   ]
  },
  {
   "cell_type": "code",
   "execution_count": null,
   "id": "67e2e005",
   "metadata": {},
   "outputs": [],
   "source": [
    "class FooParent(object):\n",
    "    def __init__(self):\n",
    "        self.parent = 'I\\'m the parent.' #这是一个属性\n",
    "        print ('Parent')\n",
    "    \n",
    "    def bar(self,message):\n",
    "        print (\"%s from Parent\" % message)\n",
    "\n",
    "class FooChild(FooParent):\n",
    "    def __init__(self):\n",
    "        # super(FooChild,self) 首先找到 FooChild 的父类（就是类 FooParent），然后把类 FooChild 的对象转换为类 FooParent 的对象\n",
    "        super().__init__()    \n",
    "        print ('Child')\n",
    "        \n",
    "    def bar(self,message):\n",
    "        super().bar(message)\n",
    "        print ('Child bar fuction')\n",
    "        print (self.parent)"
   ]
  }
 ],
 "metadata": {
  "kernelspec": {
   "display_name": "Python 3",
   "language": "python",
   "name": "python3"
  },
  "language_info": {
   "codemirror_mode": {
    "name": "ipython",
    "version": 3
   },
   "file_extension": ".py",
   "mimetype": "text/x-python",
   "name": "python",
   "nbconvert_exporter": "python",
   "pygments_lexer": "ipython3",
   "version": "3.8.18"
  }
 },
 "nbformat": 4,
 "nbformat_minor": 5
}
