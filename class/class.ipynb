{
 "cells": [
  {
   "cell_type": "markdown",
   "id": "fa82e33c",
   "metadata": {},
   "source": [
    "1. class中包含 属性 方法\n",
    "2. 类外调用 方法、属性 需要实例\n",
    "3. 类内调用 方法、属性 直接使用 self"
   ]
  },
  {
   "cell_type": "code",
   "execution_count": null,
   "id": "51918314",
   "metadata": {},
   "outputs": [
    {
     "name": "stdout",
     "output_type": "stream",
     "text": [
      "1\n",
      "(1, 'hgj')\n",
      "<__main__.people object at 0x7f45bc7917f0> bark\n",
      "None\n"
     ]
    },
    {
     "ename": "TypeError",
     "evalue": "'str' object is not callable",
     "output_type": "error",
     "traceback": [
      "\u001b[0;31m---------------------------------------------------------------------------\u001b[0m",
      "\u001b[0;31mTypeError\u001b[0m                                 Traceback (most recent call last)",
      "Cell \u001b[0;32mIn[6], line 32\u001b[0m\n\u001b[1;32m     29\u001b[0m \u001b[38;5;28mprint\u001b[39m(Hgj\u001b[38;5;241m.\u001b[39mget_info())\n\u001b[1;32m     30\u001b[0m \u001b[38;5;28mprint\u001b[39m(Hgj\u001b[38;5;241m.\u001b[39mbark()) \u001b[38;5;66;03m# 类外调用方法\u001b[39;00m\n\u001b[0;32m---> 32\u001b[0m \u001b[38;5;28mprint\u001b[39m(\u001b[43mHgj\u001b[49m\u001b[38;5;241;43m.\u001b[39;49m\u001b[43mget_name\u001b[49m\u001b[43m(\u001b[49m\u001b[43m)\u001b[49m)\n\u001b[1;32m     33\u001b[0m \u001b[38;5;28mprint\u001b[39m(Hgj\u001b[38;5;241m.\u001b[39mget_name) \u001b[38;5;66;03m# property 类外调用属性\u001b[39;00m\n\u001b[1;32m     34\u001b[0m \u001b[38;5;28mprint\u001b[39m(Hgj\u001b[38;5;241m.\u001b[39mname) \u001b[38;5;66;03m# __init__()方法内定义的属性，类外调用属性\u001b[39;00m\n",
      "\u001b[0;31mTypeError\u001b[0m: 'str' object is not callable"
     ]
    }
   ],
   "source": [
    "class people:\n",
    "    def __init__(self, people_dict):\n",
    "        self.id = people_dict['id']\n",
    "        self.name = people_dict['name']\n",
    "    \n",
    "    # 类内调用属性 id\n",
    "    def get_id(self):\n",
    "        return self.id\n",
    "    \n",
    "    # 类内调用方法\n",
    "    def get_info(self): \n",
    "        p_id = self.get_id()\n",
    "        p_name = self.name # self.name是调用属性; p_name是方法内局部变量\n",
    "        return p_id,p_name\n",
    "    \n",
    "    def bark(self):\n",
    "        print(f\"{self} bark\")\n",
    "    \n",
    "    @property  # 转换为属性，这样访问属性时，不用加括号（即可以不作为函数使用）\n",
    "    def get_name(self):\n",
    "        return self.name\n",
    "        \n",
    "hgj = {}\n",
    "hgj['id']=1\n",
    "hgj['name']='hgj'\n",
    "\n",
    "Hgj = people(hgj)\n",
    "print(Hgj.get_id())\n",
    "print(Hgj.get_info())\n",
    "print(Hgj.bark()) # 类外调用方法\n",
    "\n",
    "print(Hgj.get_name) # property 类外调用属性 # 不能再用print(Hgj.get_name())了\n",
    "print(Hgj.name) # __init__()方法内定义的属性，类外调用属性\n",
    "\n"
   ]
  },
  {
   "cell_type": "code",
   "execution_count": null,
   "id": "8d44c310",
   "metadata": {},
   "outputs": [],
   "source": []
  }
 ],
 "metadata": {
  "kernelspec": {
   "display_name": "Python 3",
   "language": "python",
   "name": "python3"
  },
  "language_info": {
   "codemirror_mode": {
    "name": "ipython",
    "version": 3
   },
   "file_extension": ".py",
   "mimetype": "text/x-python",
   "name": "python",
   "nbconvert_exporter": "python",
   "pygments_lexer": "ipython3",
   "version": "3.8.18"
  }
 },
 "nbformat": 4,
 "nbformat_minor": 5
}
